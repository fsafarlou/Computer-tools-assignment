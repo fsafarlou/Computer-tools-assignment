{
 "cells": [
  {
   "cell_type": "markdown",
   "metadata": {},
   "source": [
    "1. Write a function that does the following. Given two float values, return their multiplication. Unless the two values are the same, then\n",
    "return triple their sum. Then test your function for both cases."
   ]
  },
  {
   "cell_type": "code",
   "execution_count": 1,
   "metadata": {},
   "outputs": [],
   "source": [
    "#Question 1\n",
    "def Q1(a, b): \n",
    "  \n",
    "    if (a == b): \n",
    "       ans= 3*(a+b)\n",
    "  \n",
    "    elif (a!=b): \n",
    "        ans=a*b\n",
    "          \n",
    "    return ans "
   ]
  },
  {
   "cell_type": "code",
   "execution_count": 2,
   "metadata": {},
   "outputs": [
    {
     "data": {
      "text/plain": [
       "19.799999999999997"
      ]
     },
     "execution_count": 2,
     "metadata": {},
     "output_type": "execute_result"
    }
   ],
   "source": [
    "#Test for a=b\n",
    "Q1(3.3,3.3)\n"
   ]
  },
  {
   "cell_type": "code",
   "execution_count": 3,
   "metadata": {},
   "outputs": [
    {
     "data": {
      "text/plain": [
       "8.75"
      ]
     },
     "execution_count": 3,
     "metadata": {},
     "output_type": "execute_result"
    }
   ],
   "source": [
    "#Test for a!=b\n",
    "Q1(2.5,3.5)\n"
   ]
  },
  {
   "cell_type": "markdown",
   "metadata": {},
   "source": [
    "uncomment code below if you want test your input value"
   ]
  },
  {
   "cell_type": "code",
   "execution_count": 4,
   "metadata": {},
   "outputs": [],
   "source": [
    "#a= float(input(\"Enter first number:\"))\n",
    "#b= float(input(\"Enter second number\"))\n",
    "#print(Q1(a,b))"
   ]
  },
  {
   "cell_type": "markdown",
   "metadata": {},
   "source": [
    "2.Write a function that does the following. Given an int n, return True if\n",
    "it is within 20 of 50 or 150. Note that the given int n could be positive\n",
    "or negative or zero. You must use the function abs(num) to compute\n",
    "the absolute value of a number. Then test your function."
   ]
  },
  {
   "cell_type": "code",
   "execution_count": 5,
   "metadata": {},
   "outputs": [],
   "source": [
    "#Question 2: I thought it meant more as in range 20 of 50 i.e. 30<--50-->70, 130<--150-->170\n",
    "def Q2(n):\n",
    "    x=abs(n)\n",
    "    if 30 <=x<=70 or 130<=x<=170 :\n",
    "        return True\n",
    "    else:\n",
    "        return False\n",
    "    pass\n",
    "\n"
   ]
  },
  {
   "cell_type": "code",
   "execution_count": 6,
   "metadata": {},
   "outputs": [
    {
     "data": {
      "text/plain": [
       "True"
      ]
     },
     "execution_count": 6,
     "metadata": {},
     "output_type": "execute_result"
    }
   ],
   "source": [
    "#Test for nevagive and valid value\n",
    "Q2(-38)\n",
    "    "
   ]
  },
  {
   "cell_type": "code",
   "execution_count": 7,
   "metadata": {},
   "outputs": [
    {
     "data": {
      "text/plain": [
       "False"
      ]
     },
     "execution_count": 7,
     "metadata": {},
     "output_type": "execute_result"
    }
   ],
   "source": [
    "#Test for nevagive and invalid value\n",
    "Q2(-178)\n",
    "    "
   ]
  },
  {
   "cell_type": "code",
   "execution_count": 8,
   "metadata": {},
   "outputs": [
    {
     "data": {
      "text/plain": [
       "True"
      ]
     },
     "execution_count": 8,
     "metadata": {},
     "output_type": "execute_result"
    }
   ],
   "source": [
    "#Test for positive and valid value\n",
    "Q2(150)"
   ]
  },
  {
   "cell_type": "markdown",
   "metadata": {},
   "source": [
    "#uncomment code below if you want test your inputs"
   ]
  },
  {
   "cell_type": "code",
   "execution_count": 9,
   "metadata": {},
   "outputs": [],
   "source": [
    "#a=int(input(\"Enter a number:\"))\n",
    "#print (Q2(a))"
   ]
  },
  {
   "cell_type": "markdown",
   "metadata": {},
   "source": [
    "3.Define a function that computes the length of a given list or string or\n",
    "a tuple or a dictionary. Test your function for the four cases."
   ]
  },
  {
   "cell_type": "code",
   "execution_count": 10,
   "metadata": {},
   "outputs": [
    {
     "name": "stdout",
     "output_type": "stream",
     "text": [
      "The String Length is: 13\n",
      "The List Length is: 10\n",
      "The Tuple Length is: 4\n",
      "The Dictionart Length is: 3\n"
     ]
    }
   ],
   "source": [
    "def my_Len(iterable):\n",
    "    counter = 0\n",
    "    for x in iterable:\n",
    "        counter += 1\n",
    "    return counter\n",
    "\n",
    "\n",
    "\n",
    "print(\"The String Length is:\",(my_Len(\"Hello_teacher\")))\n",
    "\n",
    "print(\"The List Length is:\",my_Len( [1,2,3,4,5,6,7,8,9,10]))  \n",
    "    \n",
    "print(\"The Tuple Length is:\",my_Len((\"a1\", \"a2\", \"a3\",\"a4\")))\n",
    "\n",
    "print(\"The Dictionart Length is:\",my_Len({\"a\": \"1\",\"b\": \"2\",\"c\":\"3\"}))\n",
    "    \n",
    "\n",
    "\n"
   ]
  },
  {
   "cell_type": "markdown",
   "metadata": {},
   "source": [
    "4.Write a function that takes a character (i.e. a string of length 1) and\n",
    "returns True if it is a vowel, False otherwise. Write the the vowels as\n",
    "a string \"aAeEiIoOuU\", and make a condition if the input character is\n",
    "in the vowels string. Test the function."
   ]
  },
  {
   "cell_type": "code",
   "execution_count": 11,
   "metadata": {},
   "outputs": [],
   "source": [
    "#Question 4 works weeeel\n",
    "def vowel_or_consonant(c):\n",
    "    if not c.isalpha():\n",
    "        return 'Neither'\n",
    "    vowels = \"aAeEiIoOuU\"\n",
    "    if c.lower() in vowels:\n",
    "        return 'True'\n",
    "    else:\n",
    "        return 'False'\n"
   ]
  },
  {
   "cell_type": "code",
   "execution_count": 12,
   "metadata": {},
   "outputs": [
    {
     "name": "stdout",
     "output_type": "stream",
     "text": [
      "H False\n",
      "e True\n",
      "l False\n",
      "l False\n",
      "o True\n",
      "  Neither\n",
      "T False\n",
      "e True\n",
      "a True\n",
      "c False\n",
      "h False\n",
      "e True\n",
      "r False\n"
     ]
    }
   ],
   "source": [
    "for c in \"Hello Teacher\":\n",
    "    print( c, vowel_or_consonant(c))"
   ]
  },
  {
   "cell_type": "markdown",
   "metadata": {},
   "source": [
    "#Uncomment cell below to test your individual character.\n"
   ]
  },
  {
   "cell_type": "code",
   "execution_count": 13,
   "metadata": {},
   "outputs": [],
   "source": [
    "#c=input(\"Enter a character:\")\n",
    "#print(vowel_or_consonant(c))"
   ]
  },
  {
   "cell_type": "markdown",
   "metadata": {},
   "source": [
    "5.Define a function is_it_palindrome() that recognizes palindromes (i.e.\n",
    "words that look the same written backwards). For example, is_it_palindrome(\"Radar\")\n",
    "should return True. Then write a for loop to test the function for all\n",
    "strings in the list,"
   ]
  },
  {
   "cell_type": "code",
   "execution_count": 14,
   "metadata": {},
   "outputs": [],
   "source": [
    "def palindrome(my_str):\n",
    "# make it suitable for caseless comparison\n",
    "    my_str = my_str.casefold()\n",
    "\n",
    "# reverse the string\n",
    "    rev_str = reversed(my_str)\n",
    "\n",
    "# check if the string is equal to its reverse\n",
    "    if list(my_str) == list(rev_str):\n",
    "       print(\"The string\",[my_str],\"is a palindrome.\")\n",
    "    else:\n",
    "       print(\"The string\",[my_str],\"is not a palindrome.\")\n",
    "\n",
    "\n",
    "   \n"
   ]
  },
  {
   "cell_type": "code",
   "execution_count": 15,
   "metadata": {},
   "outputs": [
    {
     "name": "stdout",
     "output_type": "stream",
     "text": [
      "The string ['radar'] is a palindrome.\n"
     ]
    }
   ],
   "source": [
    " palindrome(\"Radar\")"
   ]
  },
  {
   "cell_type": "code",
   "execution_count": 73,
   "metadata": {},
   "outputs": [
    {
     "name": "stdout",
     "output_type": "stream",
     "text": [
      "The string ['anna'] is a palindrome.\n",
      "The string ['civic'] is a palindrome.\n",
      "The string ['kayak'] is a palindrome.\n",
      "The string ['level'] is a palindrome.\n",
      "The string ['madam'] is a palindrome.\n",
      "The string ['mom'] is a palindrome.\n",
      "The string ['noon'] is a palindrome.\n",
      "The string ['racecar'] is a palindrome.\n",
      "The string ['computerrrrrrrrrrrrrrrrrrrrrrrrrrrrrrr'] is not a palindrome.\n"
     ]
    }
   ],
   "source": [
    "inputWord = [\n",
    "\"Anna\",\n",
    "\"Civic\",\n",
    "\"Kayak\",\n",
    "\"Level\",\n",
    "\"Madam\",\n",
    "\"Mom\",\n",
    "\"Noon\",\n",
    "\"Racecar\",\n",
    "\"Computerrrrrrrrrrrrrrrrrrrrrrrrrrrrrrr\"\n",
    "];\n",
    "for x in inputWord:\n",
    "  palindrome(x);\n",
    " "
   ]
  },
  {
   "cell_type": "markdown",
   "metadata": {},
   "source": [
    "Uncomment to test any string that can be given by user "
   ]
  },
  {
   "cell_type": "code",
   "execution_count": 74,
   "metadata": {},
   "outputs": [
    {
     "name": "stdin",
     "output_type": "stream",
     "text": [
      "Enter Any String:  abba\n"
     ]
    },
    {
     "name": "stdout",
     "output_type": "stream",
     "text": [
      "The string ['abba'] is a palindrome.\n"
     ]
    }
   ],
   "source": [
    "#string=input(\"Enter Any String: \")\n",
    "#palindrome(string)"
   ]
  },
  {
   "cell_type": "markdown",
   "metadata": {},
   "source": [
    "6. Write a function translate_Swedish() that will translate a text into \"rövarspråket\" (Swedish for \"robber’s language\"). That is, double every\n",
    "consonant and place an occurrence of \"o\" in between. Test the funstion with translate_Swedish(\"this is fun\") should return the string\n",
    "\"tothohisos isos fofunon\"."
   ]
  },
  {
   "cell_type": "code",
   "execution_count": 36,
   "metadata": {},
   "outputs": [
    {
     "name": "stdout",
     "output_type": "stream",
     "text": [
      "tothohisos isos fofunon\n"
     ]
    }
   ],
   "source": [
    "#Question 6\n",
    "def translate(str):\n",
    "    consonants='bcdfghjJklmnpqrstvwxyz'\n",
    "    print(\"\".join(l+'o'+l if l in consonants else l for l in str))\n",
    "\n",
    "    \n",
    "\n",
    "translate(\"this is fun\")"
   ]
  },
  {
   "cell_type": "markdown",
   "metadata": {},
   "source": [
    "7. Define a function overlap() that takes two lists and returns True if\n",
    "they have at least one element in common, False otherwise. For the\n",
    "sake of the exercise, you should write it using two nested for-loops."
   ]
  },
  {
   "cell_type": "code",
   "execution_count": 75,
   "metadata": {
    "collapsed": true,
    "jupyter": {
     "outputs_hidden": true
    }
   },
   "outputs": [],
   "source": [
    "#Question 7\n",
    "def overlapping(string1, string2):\n",
    " for i in string1:\n",
    "  for e in string2:\n",
    "   if i == e:\n",
    "    return True\n",
    " return False"
   ]
  },
  {
   "cell_type": "code",
   "execution_count": 78,
   "metadata": {},
   "outputs": [
    {
     "data": {
      "text/plain": [
       "True"
      ]
     },
     "execution_count": 78,
     "metadata": {},
     "output_type": "execute_result"
    }
   ],
   "source": [
    "overlapping('hng','g')"
   ]
  },
  {
   "cell_type": "markdown",
   "metadata": {},
   "source": [
    "8. In English, the present participle is formed by adding the suffix -ing\n",
    "to the infinite form: go -> going. A simple set of heuristic rules can\n",
    "be given as follows:\n",
    "If the verb ends in e, drop the e and add ing (if not exception: be,\n",
    "see, flee, knee, etc.) If the verb ends in ie, change ie to y and add\n",
    "ing For words consisting of consonant-vowel-consonant, double the\n",
    "final letter before adding ing By default just add ing Your task in this\n",
    "exercise is to define a function make_ing_form_English() which given\n",
    "a verb in infinitive form returns its present participle form. Test your\n",
    "function with words such as lie, see, move and hug. However, you\n",
    "must not expect such simple rules to work for all cases."
   ]
  },
  {
   "cell_type": "code",
   "execution_count": 4,
   "metadata": {},
   "outputs": [
    {
     "name": "stdout",
     "output_type": "stream",
     "text": [
      "lying\n",
      "being\n",
      "seeing\n",
      "Fleing\n",
      "kneeing\n",
      "keeping\n",
      "going\n",
      "hugging\n"
     ]
    }
   ],
   "source": [
    "#Question 8\n",
    "\n",
    "def make_ing_form(v):\n",
    "    constant=\"bcdfghjklmnpqrstvwxz\"\n",
    "    vowel=\"aeiou\"\n",
    "    avoid=['be','see', 'flee','knee']\n",
    "    if v in avoid:\n",
    "        return v+'ing'\n",
    "    elif v[-1] in constant and v[-2] in vowel and v[-3] in constant:\n",
    "            v+=v[-1]\n",
    "            return v+'ing'\n",
    "    elif(v.endswith('ie')==True):\n",
    "        return v[:-2]+'ying'\n",
    "    elif(v.endswith('e')==True):\n",
    "        return v[:-1]+'ing'\n",
    "    else:\n",
    "        return v+'ing'\n",
    "\n",
    "print(make_ing_form('lie'))\n",
    "print(make_ing_form('be'))\n",
    "print(make_ing_form('see'))\n",
    "print(make_ing_form('Flee'))\n",
    "print(make_ing_form('knee'))\n",
    "print(make_ing_form('keep'))\n",
    "print(make_ing_form('go'))\n",
    "print(make_ing_form('hug'))"
   ]
  },
  {
   "cell_type": "code",
   "execution_count": null,
   "metadata": {
    "collapsed": true,
    "jupyter": {
     "outputs_hidden": true
    }
   },
   "outputs": [],
   "source": []
  }
 ],
 "metadata": {
  "kernelspec": {
   "display_name": "Python 3",
   "language": "python",
   "name": "python3"
  },
  "language_info": {
   "codemirror_mode": {
    "name": "ipython",
    "version": 3
   },
   "file_extension": ".py",
   "mimetype": "text/x-python",
   "name": "python",
   "nbconvert_exporter": "python",
   "pygments_lexer": "ipython3",
   "version": "3.7.0"
  }
 },
 "nbformat": 4,
 "nbformat_minor": 4
}
